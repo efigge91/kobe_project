{
 "cells": [
  {
   "cell_type": "code",
   "execution_count": 71,
   "metadata": {
    "collapsed": true
   },
   "outputs": [],
   "source": [
    "import numpy as  np  # linear algebra# linea \n",
    "import pandas as pd # data processing, CSV file I/O (e.g. pd.read_csv)\n",
    "import matplotlib.pyplot as plt\n",
    "from matplotlib.patches import Circle, Rectangle, Arc"
   ]
  },
  {
   "cell_type": "code",
   "execution_count": 102,
   "metadata": {
    "collapsed": true
   },
   "outputs": [],
   "source": [
    "df = pd.read_csv('data.csv')\n",
    "test = pd.read_csv('test_data.csv')\n",
    "train = pd.read_csv('training_data.csv')"
   ]
  },
  {
   "cell_type": "code",
   "execution_count": 103,
   "metadata": {},
   "outputs": [
    {
     "data": {
      "text/plain": [
       "shot_id                      int64\n",
       "game_date                   object\n",
       "action_type                 object\n",
       "loc_x                        int64\n",
       "loc_y                        int64\n",
       "total_seconds_remaining      int64\n",
       "period                       int64\n",
       "playoffs                     int64\n",
       "season                      object\n",
       "shot_distance                int64\n",
       "shot_made_flag               int64\n",
       "shot_type                   object\n",
       "shot_zone_area              object\n",
       "shot_zone_basic             object\n",
       "shot_zone_range             object\n",
       "opponent                    object\n",
       "Home_vs_Away                object\n",
       "lat                        float64\n",
       "lon                        float64\n",
       "dtype: object"
      ]
     },
     "execution_count": 103,
     "metadata": {},
     "output_type": "execute_result"
    }
   ],
   "source": [
    "train.dtypes"
   ]
  },
  {
   "cell_type": "code",
   "execution_count": 104,
   "metadata": {},
   "outputs": [],
   "source": [
    "train_numbers = train.drop(['shot_id', 'shot_zone_area', 'lat','lon','total_seconds_remaining', 'period', 'playoffs'], axis=1)"
   ]
  },
  {
   "cell_type": "code",
   "execution_count": 105,
   "metadata": {
    "collapsed": true
   },
   "outputs": [],
   "source": [
    "action_columns = pd.get_dummies(train_numbers['game_date'],prefix = \"action\")\n",
    "train_numbers = pd.concat([train_numbers, action_columns], axis=1)\n",
    "train_numbers.drop('game_date', axis=1, inplace=True)"
   ]
  },
  {
   "cell_type": "code",
   "execution_count": 106,
   "metadata": {
    "collapsed": true
   },
   "outputs": [],
   "source": [
    "action_columns = pd.get_dummies(train_numbers['action_type'],prefix = \"action\")\n",
    "train_numbers = pd.concat([train_numbers, action_columns], axis=1)\n",
    "train_numbers.drop('action_type', axis=1, inplace=True)"
   ]
  },
  {
   "cell_type": "code",
   "execution_count": 107,
   "metadata": {
    "collapsed": true
   },
   "outputs": [],
   "source": [
    "action_columns = pd.get_dummies(train_numbers['season'],prefix = \"action\")\n",
    "train_numbers = pd.concat([train_numbers, action_columns], axis=1)\n",
    "train_numbers.drop('season', axis=1, inplace=True)"
   ]
  },
  {
   "cell_type": "code",
   "execution_count": 108,
   "metadata": {
    "collapsed": true
   },
   "outputs": [],
   "source": [
    "action_columns = pd.get_dummies(train_numbers['shot_type'],prefix = \"action\")\n",
    "train_numbers = pd.concat([train_numbers, action_columns], axis=1)\n",
    "train_numbers.drop('shot_type', axis=1, inplace=True)"
   ]
  },
  {
   "cell_type": "markdown",
   "metadata": {},
   "source": [
    "action_columns = pd.get_dummies(train_numbers['shot_zone_area'],prefix = \"action\")\n",
    "train_numbers = pd.concat([train_numbers, action_columns], axis=1)\n",
    "train_numbers.drop('shot_zone_area', axis=1, inplace=True)"
   ]
  },
  {
   "cell_type": "code",
   "execution_count": 109,
   "metadata": {
    "collapsed": true
   },
   "outputs": [],
   "source": [
    "action_columns = pd.get_dummies(train_numbers['shot_zone_basic'],prefix = \"action\")\n",
    "train_numbers = pd.concat([train_numbers, action_columns], axis=1)\n",
    "train_numbers.drop('shot_zone_basic', axis=1, inplace=True)"
   ]
  },
  {
   "cell_type": "code",
   "execution_count": 110,
   "metadata": {
    "collapsed": true
   },
   "outputs": [],
   "source": [
    "action_columns = pd.get_dummies(train_numbers['shot_zone_range'],prefix = \"action\")\n",
    "train_numbers = pd.concat([train_numbers, action_columns], axis=1)\n",
    "train_numbers.drop('shot_zone_range', axis=1, inplace=True)"
   ]
  },
  {
   "cell_type": "code",
   "execution_count": 111,
   "metadata": {
    "collapsed": true
   },
   "outputs": [],
   "source": [
    "action_columns = pd.get_dummies(train_numbers['opponent'],prefix = \"action\")\n",
    "train_numbers = pd.concat([train_numbers, action_columns], axis=1)\n",
    "train_numbers.drop('opponent', axis=1, inplace=True)"
   ]
  },
  {
   "cell_type": "code",
   "execution_count": 112,
   "metadata": {
    "collapsed": true
   },
   "outputs": [],
   "source": [
    "action_columns = pd.get_dummies(train_numbers['Home_vs_Away'],prefix = \"action\")\n",
    "train_numbers = pd.concat([train_numbers, action_columns], axis=1)\n",
    "train_numbers.drop('Home_vs_Away', axis=1, inplace=True)"
   ]
  },
  {
   "cell_type": "code",
   "execution_count": 113,
   "metadata": {},
   "outputs": [],
   "source": [
    "X = train_numbers.drop('shot_made_flag', axis=1)\n",
    "y = train_numbers['shot_made_flag']"
   ]
  },
  {
   "cell_type": "code",
   "execution_count": 114,
   "metadata": {
    "collapsed": true
   },
   "outputs": [],
   "source": [
    "from sklearn.model_selection import train_test_split\n",
    "X_train, X_test, y_train, y_test = train_test_split(X, y, random_state=1, stratify=y, shuffle=True)"
   ]
  },
  {
   "cell_type": "code",
   "execution_count": 115,
   "metadata": {},
   "outputs": [],
   "source": [
    "from sklearn.ensemble import RandomForestClassifier\n",
    "clsf = RandomForestClassifier(n_estimators=50, max_features='sqrt')\n",
    "clsf = clsf.fit(X_train, y_train)"
   ]
  },
  {
   "cell_type": "code",
   "execution_count": 116,
   "metadata": {},
   "outputs": [
    {
     "data": {
      "text/plain": [
       "0.65167315175097273"
      ]
     },
     "execution_count": 116,
     "metadata": {},
     "output_type": "execute_result"
    }
   ],
   "source": [
    "clsf.score(X_test, y_test)"
   ]
  },
  {
   "cell_type": "code",
   "execution_count": 118,
   "metadata": {},
   "outputs": [
    {
     "data": {
      "text/html": [
       "<div>\n",
       "<style>\n",
       "    .dataframe thead tr:only-child th {\n",
       "        text-align: right;\n",
       "    }\n",
       "\n",
       "    .dataframe thead th {\n",
       "        text-align: left;\n",
       "    }\n",
       "\n",
       "    .dataframe tbody tr th {\n",
       "        vertical-align: top;\n",
       "    }\n",
       "</style>\n",
       "<table border=\"1\" class=\"dataframe\">\n",
       "  <thead>\n",
       "    <tr style=\"text-align: right;\">\n",
       "      <th></th>\n",
       "      <th>importance</th>\n",
       "    </tr>\n",
       "    <tr>\n",
       "      <th>feature</th>\n",
       "      <th></th>\n",
       "    </tr>\n",
       "  </thead>\n",
       "  <tbody>\n",
       "    <tr>\n",
       "      <th>action_12/21/1996</th>\n",
       "      <td>0.000000e+00</td>\n",
       "    </tr>\n",
       "    <tr>\n",
       "      <th>action_2/16/1997</th>\n",
       "      <td>0.000000e+00</td>\n",
       "    </tr>\n",
       "    <tr>\n",
       "      <th>action_11/5/1996</th>\n",
       "      <td>9.398620e-08</td>\n",
       "    </tr>\n",
       "    <tr>\n",
       "      <th>action_4/27/1997</th>\n",
       "      <td>5.839548e-07</td>\n",
       "    </tr>\n",
       "    <tr>\n",
       "      <th>action_12/10/1996</th>\n",
       "      <td>1.445702e-06</td>\n",
       "    </tr>\n",
       "    <tr>\n",
       "      <th>action_1/10/1997</th>\n",
       "      <td>1.537548e-06</td>\n",
       "    </tr>\n",
       "    <tr>\n",
       "      <th>action_11/3/1996</th>\n",
       "      <td>1.718004e-06</td>\n",
       "    </tr>\n",
       "    <tr>\n",
       "      <th>action_3/20/1997</th>\n",
       "      <td>4.245144e-06</td>\n",
       "    </tr>\n",
       "    <tr>\n",
       "      <th>action_5/6/1997</th>\n",
       "      <td>5.130177e-06</td>\n",
       "    </tr>\n",
       "    <tr>\n",
       "      <th>action_Turnaround Finger Roll Shot</th>\n",
       "      <td>5.513790e-06</td>\n",
       "    </tr>\n",
       "  </tbody>\n",
       "</table>\n",
       "</div>"
      ],
      "text/plain": [
       "                                      importance\n",
       "feature                                         \n",
       "action_12/21/1996                   0.000000e+00\n",
       "action_2/16/1997                    0.000000e+00\n",
       "action_11/5/1996                    9.398620e-08\n",
       "action_4/27/1997                    5.839548e-07\n",
       "action_12/10/1996                   1.445702e-06\n",
       "action_1/10/1997                    1.537548e-06\n",
       "action_11/3/1996                    1.718004e-06\n",
       "action_3/20/1997                    4.245144e-06\n",
       "action_5/6/1997                     5.130177e-06\n",
       "action_Turnaround Finger Roll Shot  5.513790e-06"
      ]
     },
     "execution_count": 118,
     "metadata": {},
     "output_type": "execute_result"
    }
   ],
   "source": [
    "features = pd.DataFrame()\n",
    "features['feature'] = X_train.columns\n",
    "features['importance'] = clsf.feature_importances_\n",
    "features.sort_values(by=['importance'], ascending=True, inplace=True)\n",
    "features.set_index('feature', inplace=True)\n",
    "features.plot(kind='barh', figsize=(25, 25))\n",
    "plt.show()"
   ]
  },
  {
   "cell_type": "code",
   "execution_count": 18,
   "metadata": {},
   "outputs": [
    {
     "data": {
      "text/html": [
       "<div>\n",
       "<style>\n",
       "    .dataframe thead tr:only-child th {\n",
       "        text-align: right;\n",
       "    }\n",
       "\n",
       "    .dataframe thead th {\n",
       "        text-align: left;\n",
       "    }\n",
       "\n",
       "    .dataframe tbody tr th {\n",
       "        vertical-align: top;\n",
       "    }\n",
       "</style>\n",
       "<table border=\"1\" class=\"dataframe\">\n",
       "  <thead>\n",
       "    <tr style=\"text-align: right;\">\n",
       "      <th></th>\n",
       "      <th>importance</th>\n",
       "    </tr>\n",
       "    <tr>\n",
       "      <th>feature</th>\n",
       "      <th></th>\n",
       "    </tr>\n",
       "  </thead>\n",
       "  <tbody>\n",
       "    <tr>\n",
       "      <th>total_seconds_remaining</th>\n",
       "      <td>0.074481</td>\n",
       "    </tr>\n",
       "    <tr>\n",
       "      <th>lat</th>\n",
       "      <td>0.050623</td>\n",
       "    </tr>\n",
       "    <tr>\n",
       "      <th>loc_x</th>\n",
       "      <td>0.049972</td>\n",
       "    </tr>\n",
       "    <tr>\n",
       "      <th>lon</th>\n",
       "      <td>0.049933</td>\n",
       "    </tr>\n",
       "    <tr>\n",
       "      <th>loc_y</th>\n",
       "      <td>0.049335</td>\n",
       "    </tr>\n",
       "    <tr>\n",
       "      <th>shot_distance</th>\n",
       "      <td>0.038398</td>\n",
       "    </tr>\n",
       "    <tr>\n",
       "      <th>action_Jump Shot</th>\n",
       "      <td>0.036887</td>\n",
       "    </tr>\n",
       "    <tr>\n",
       "      <th>period</th>\n",
       "      <td>0.032221</td>\n",
       "    </tr>\n",
       "    <tr>\n",
       "      <th>action_Layup Shot</th>\n",
       "      <td>0.015152</td>\n",
       "    </tr>\n",
       "    <tr>\n",
       "      <th>action_Away</th>\n",
       "      <td>0.008621</td>\n",
       "    </tr>\n",
       "  </tbody>\n",
       "</table>\n",
       "</div>"
      ],
      "text/plain": [
       "                         importance\n",
       "feature                            \n",
       "total_seconds_remaining    0.074481\n",
       "lat                        0.050623\n",
       "loc_x                      0.049972\n",
       "lon                        0.049933\n",
       "loc_y                      0.049335\n",
       "shot_distance              0.038398\n",
       "action_Jump Shot           0.036887\n",
       "period                     0.032221\n",
       "action_Layup Shot          0.015152\n",
       "action_Away                0.008621"
      ]
     },
     "execution_count": 18,
     "metadata": {},
     "output_type": "execute_result"
    }
   ],
   "source": [
    "features.sort_values(by=['importance'], ascending=False, inplace=True)\n",
    "features.head(10)"
   ]
  },
  {
   "cell_type": "code",
   "execution_count": 19,
   "metadata": {},
   "outputs": [
    {
     "data": {
      "text/plain": [
       "LogisticRegression(C=1.0, class_weight=None, dual=False, fit_intercept=True,\n",
       "          intercept_scaling=1, max_iter=100, multi_class='ovr', n_jobs=1,\n",
       "          penalty='l2', random_state=None, solver='liblinear', tol=0.0001,\n",
       "          verbose=0, warm_start=False)"
      ]
     },
     "execution_count": 19,
     "metadata": {},
     "output_type": "execute_result"
    }
   ],
   "source": [
    "from sklearn.linear_model import LogisticRegression\n",
    "classifier = LogisticRegression()\n",
    "classifier"
   ]
  },
  {
   "cell_type": "code",
   "execution_count": 20,
   "metadata": {},
   "outputs": [
    {
     "data": {
      "text/plain": [
       "LogisticRegression(C=1.0, class_weight=None, dual=False, fit_intercept=True,\n",
       "          intercept_scaling=1, max_iter=100, multi_class='ovr', n_jobs=1,\n",
       "          penalty='l2', random_state=None, solver='liblinear', tol=0.0001,\n",
       "          verbose=0, warm_start=False)"
      ]
     },
     "execution_count": 20,
     "metadata": {},
     "output_type": "execute_result"
    }
   ],
   "source": [
    "classifier.fit(X_train, y_train)"
   ]
  },
  {
   "cell_type": "code",
   "execution_count": 21,
   "metadata": {},
   "outputs": [
    {
     "data": {
      "text/plain": [
       "0.66739299610894942"
      ]
     },
     "execution_count": 21,
     "metadata": {},
     "output_type": "execute_result"
    }
   ],
   "source": [
    "classifier.score(X_test, y_test)"
   ]
  },
  {
   "cell_type": "code",
   "execution_count": null,
   "metadata": {
    "collapsed": true
   },
   "outputs": [],
   "source": []
  }
 ],
 "metadata": {
  "kernelspec": {
   "display_name": "Python 3",
   "language": "python",
   "name": "python3"
  },
  "language_info": {
   "codemirror_mode": {
    "name": "ipython",
    "version": 3
   },
   "file_extension": ".py",
   "mimetype": "text/x-python",
   "name": "python",
   "nbconvert_exporter": "python",
   "pygments_lexer": "ipython3",
   "version": "3.6.3"
  }
 },
 "nbformat": 4,
 "nbformat_minor": 2
}
